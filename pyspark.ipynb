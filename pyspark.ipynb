{
 "cells": [
  {
   "cell_type": "code",
   "execution_count": 1,
   "metadata": {},
   "outputs": [],
   "source": [
    "import pyspark"
   ]
  },
  {
   "cell_type": "code",
   "execution_count": null,
   "metadata": {},
   "outputs": [],
   "source": [
    "https://docs.delta.io/latest/quick-start.html#set-up-apache-spark-with-delta-lake"
   ]
  },
  {
   "cell_type": "code",
   "execution_count": 2,
   "metadata": {},
   "outputs": [],
   "source": [
    "from pyspark.sql import SparkSession"
   ]
  },
  {
   "cell_type": "code",
   "execution_count": 3,
   "metadata": {},
   "outputs": [],
   "source": [
    "spark = SparkSession.builder.appName('test').getOrCreate()"
   ]
  },
  {
   "cell_type": "code",
   "execution_count": 4,
   "metadata": {},
   "outputs": [
    {
     "data": {
      "text/html": [
       "\n",
       "            <div>\n",
       "                <p><b>SparkSession - in-memory</b></p>\n",
       "                \n",
       "        <div>\n",
       "            <p><b>SparkContext</b></p>\n",
       "\n",
       "            <p><a href=\"http://192.168.0.105:4040\">Spark UI</a></p>\n",
       "\n",
       "            <dl>\n",
       "              <dt>Version</dt>\n",
       "                <dd><code>v3.1.2</code></dd>\n",
       "              <dt>Master</dt>\n",
       "                <dd><code>local[*]</code></dd>\n",
       "              <dt>AppName</dt>\n",
       "                <dd><code>test</code></dd>\n",
       "            </dl>\n",
       "        </div>\n",
       "        \n",
       "            </div>\n",
       "        "
      ],
      "text/plain": [
       "<pyspark.sql.session.SparkSession at 0x7fd01045ab70>"
      ]
     },
     "execution_count": 4,
     "metadata": {},
     "output_type": "execute_result"
    }
   ],
   "source": [
    "spark"
   ]
  },
  {
   "cell_type": "code",
   "execution_count": 5,
   "metadata": {},
   "outputs": [],
   "source": [
    "df =  spark.read.csv('/home/rijin/Documents/project/python-su/data/FuelConsumption.csv')"
   ]
  },
  {
   "cell_type": "code",
   "execution_count": 6,
   "metadata": {},
   "outputs": [
    {
     "data": {
      "text/plain": [
       "DataFrame[_c0: string, _c1: string, _c2: string, _c3: string, _c4: string, _c5: string, _c6: string, _c7: string, _c8: string, _c9: string, _c10: string, _c11: string, _c12: string]"
      ]
     },
     "execution_count": 6,
     "metadata": {},
     "output_type": "execute_result"
    }
   ],
   "source": [
    "df"
   ]
  },
  {
   "cell_type": "code",
   "execution_count": 7,
   "metadata": {},
   "outputs": [
    {
     "name": "stdout",
     "output_type": "stream",
     "text": [
      "+---------+-----+----------+------------+----------+---------+------------+--------+--------------------+-------------------+--------------------+--------------------+------------+\n",
      "|      _c0|  _c1|       _c2|         _c3|       _c4|      _c5|         _c6|     _c7|                 _c8|                _c9|                _c10|                _c11|        _c12|\n",
      "+---------+-----+----------+------------+----------+---------+------------+--------+--------------------+-------------------+--------------------+--------------------+------------+\n",
      "|MODELYEAR| MAKE|     MODEL|VEHICLECLASS|ENGINESIZE|CYLINDERS|TRANSMISSION|FUELTYPE|FUELCONSUMPTION_CITY|FUELCONSUMPTION_HWY|FUELCONSUMPTION_COMB|FUELCONSUMPTION_C...|CO2EMISSIONS|\n",
      "|     2014|ACURA|       ILX|     COMPACT|         2|        4|         AS5|       Z|                 9.9|                6.7|                 8.5|                  33|         196|\n",
      "|     2014|ACURA|       ILX|     COMPACT|       2.4|        4|          M6|       Z|                11.2|                7.7|                 9.6|                  29|         221|\n",
      "|     2014|ACURA|ILX HYBRID|     COMPACT|       1.5|        4|         AV7|       Z|                   6|                5.8|                 5.9|                  48|         136|\n",
      "|     2014|ACURA|   MDX 4WD| SUV - SMALL|       3.5|        6|         AS6|       Z|                12.7|                9.1|                11.1|                  25|         255|\n",
      "+---------+-----+----------+------------+----------+---------+------------+--------+--------------------+-------------------+--------------------+--------------------+------------+\n",
      "only showing top 5 rows\n",
      "\n"
     ]
    }
   ],
   "source": [
    "df.show(5)"
   ]
  },
  {
   "cell_type": "code",
   "execution_count": 8,
   "metadata": {},
   "outputs": [],
   "source": [
    "#read the data and seting the first column as the header name\n",
    "df_new = spark.read.option('header','true').csv('/home/rijin/Documents/project/python-su/data/FuelConsumption.csv')"
   ]
  },
  {
   "cell_type": "code",
   "execution_count": 9,
   "metadata": {},
   "outputs": [
    {
     "name": "stdout",
     "output_type": "stream",
     "text": [
      "+---------+-----+----------+------------+----------+---------+------------+--------+--------------------+-------------------+--------------------+------------------------+------------+\n",
      "|MODELYEAR| MAKE|     MODEL|VEHICLECLASS|ENGINESIZE|CYLINDERS|TRANSMISSION|FUELTYPE|FUELCONSUMPTION_CITY|FUELCONSUMPTION_HWY|FUELCONSUMPTION_COMB|FUELCONSUMPTION_COMB_MPG|CO2EMISSIONS|\n",
      "+---------+-----+----------+------------+----------+---------+------------+--------+--------------------+-------------------+--------------------+------------------------+------------+\n",
      "|     2014|ACURA|       ILX|     COMPACT|         2|        4|         AS5|       Z|                 9.9|                6.7|                 8.5|                      33|         196|\n",
      "|     2014|ACURA|       ILX|     COMPACT|       2.4|        4|          M6|       Z|                11.2|                7.7|                 9.6|                      29|         221|\n",
      "|     2014|ACURA|ILX HYBRID|     COMPACT|       1.5|        4|         AV7|       Z|                   6|                5.8|                 5.9|                      48|         136|\n",
      "|     2014|ACURA|   MDX 4WD| SUV - SMALL|       3.5|        6|         AS6|       Z|                12.7|                9.1|                11.1|                      25|         255|\n",
      "|     2014|ACURA|   RDX AWD| SUV - SMALL|       3.5|        6|         AS6|       Z|                12.1|                8.7|                10.6|                      27|         244|\n",
      "+---------+-----+----------+------------+----------+---------+------------+--------+--------------------+-------------------+--------------------+------------------------+------------+\n",
      "only showing top 5 rows\n",
      "\n"
     ]
    }
   ],
   "source": [
    "df_new.show(5)"
   ]
  },
  {
   "cell_type": "code",
   "execution_count": 10,
   "metadata": {},
   "outputs": [
    {
     "data": {
      "text/plain": [
       "[Row(MODELYEAR='2014', MAKE='ACURA', MODEL='ILX', VEHICLECLASS='COMPACT', ENGINESIZE='2', CYLINDERS='4', TRANSMISSION='AS5', FUELTYPE='Z', FUELCONSUMPTION_CITY='9.9', FUELCONSUMPTION_HWY='6.7', FUELCONSUMPTION_COMB='8.5', FUELCONSUMPTION_COMB_MPG='33', CO2EMISSIONS='196'),\n",
       " Row(MODELYEAR='2014', MAKE='ACURA', MODEL='ILX', VEHICLECLASS='COMPACT', ENGINESIZE='2.4', CYLINDERS='4', TRANSMISSION='M6', FUELTYPE='Z', FUELCONSUMPTION_CITY='11.2', FUELCONSUMPTION_HWY='7.7', FUELCONSUMPTION_COMB='9.6', FUELCONSUMPTION_COMB_MPG='29', CO2EMISSIONS='221')]"
      ]
     },
     "execution_count": 10,
     "metadata": {},
     "output_type": "execute_result"
    }
   ],
   "source": [
    "df_new.head(2)"
   ]
  },
  {
   "cell_type": "code",
   "execution_count": 11,
   "metadata": {},
   "outputs": [
    {
     "name": "stdout",
     "output_type": "stream",
     "text": [
      "root\n",
      " |-- MODELYEAR: string (nullable = true)\n",
      " |-- MAKE: string (nullable = true)\n",
      " |-- MODEL: string (nullable = true)\n",
      " |-- VEHICLECLASS: string (nullable = true)\n",
      " |-- ENGINESIZE: string (nullable = true)\n",
      " |-- CYLINDERS: string (nullable = true)\n",
      " |-- TRANSMISSION: string (nullable = true)\n",
      " |-- FUELTYPE: string (nullable = true)\n",
      " |-- FUELCONSUMPTION_CITY: string (nullable = true)\n",
      " |-- FUELCONSUMPTION_HWY: string (nullable = true)\n",
      " |-- FUELCONSUMPTION_COMB: string (nullable = true)\n",
      " |-- FUELCONSUMPTION_COMB_MPG: string (nullable = true)\n",
      " |-- CO2EMISSIONS: string (nullable = true)\n",
      "\n"
     ]
    }
   ],
   "source": [
    "#similer with df.info in pandas\n",
    "df_new.printSchema()"
   ]
  },
  {
   "cell_type": "code",
   "execution_count": 12,
   "metadata": {},
   "outputs": [],
   "source": [
    "model = df_new.select('MODEL')"
   ]
  },
  {
   "cell_type": "code",
   "execution_count": 13,
   "metadata": {},
   "outputs": [
    {
     "name": "stdout",
     "output_type": "stream",
     "text": [
      "+------------+------------+------------+\n",
      "|        MAKE|       MODEL|VEHICLECLASS|\n",
      "+------------+------------+------------+\n",
      "|       ACURA|         ILX|     COMPACT|\n",
      "|       ACURA|         ILX|     COMPACT|\n",
      "|       ACURA|  ILX HYBRID|     COMPACT|\n",
      "|       ACURA|     MDX 4WD| SUV - SMALL|\n",
      "|       ACURA|     RDX AWD| SUV - SMALL|\n",
      "|       ACURA|         RLX|    MID-SIZE|\n",
      "|       ACURA|          TL|    MID-SIZE|\n",
      "|       ACURA|      TL AWD|    MID-SIZE|\n",
      "|       ACURA|      TL AWD|    MID-SIZE|\n",
      "|       ACURA|         TSX|     COMPACT|\n",
      "|       ACURA|         TSX|     COMPACT|\n",
      "|       ACURA|         TSX|     COMPACT|\n",
      "|ASTON MARTIN|         DB9| MINICOMPACT|\n",
      "|ASTON MARTIN|      RAPIDE|  SUBCOMPACT|\n",
      "|ASTON MARTIN|  V8 VANTAGE|  TWO-SEATER|\n",
      "|ASTON MARTIN|  V8 VANTAGE|  TWO-SEATER|\n",
      "|ASTON MARTIN|V8 VANTAGE S|  TWO-SEATER|\n",
      "|ASTON MARTIN|V8 VANTAGE S|  TWO-SEATER|\n",
      "|ASTON MARTIN|    VANQUISH| MINICOMPACT|\n",
      "|        AUDI|          A4|     COMPACT|\n",
      "+------------+------------+------------+\n",
      "only showing top 20 rows\n",
      "\n"
     ]
    }
   ],
   "source": [
    "#selecting multiple column\n",
    "df_new.select(['MAKE','MODEL','VEHICLECLASS']).show()"
   ]
  },
  {
   "cell_type": "code",
   "execution_count": 14,
   "metadata": {},
   "outputs": [
    {
     "data": {
      "text/plain": [
       "[('MODELYEAR', 'string'),\n",
       " ('MAKE', 'string'),\n",
       " ('MODEL', 'string'),\n",
       " ('VEHICLECLASS', 'string'),\n",
       " ('ENGINESIZE', 'string'),\n",
       " ('CYLINDERS', 'string'),\n",
       " ('TRANSMISSION', 'string'),\n",
       " ('FUELTYPE', 'string'),\n",
       " ('FUELCONSUMPTION_CITY', 'string'),\n",
       " ('FUELCONSUMPTION_HWY', 'string'),\n",
       " ('FUELCONSUMPTION_COMB', 'string'),\n",
       " ('FUELCONSUMPTION_COMB_MPG', 'string'),\n",
       " ('CO2EMISSIONS', 'string')]"
      ]
     },
     "execution_count": 14,
     "metadata": {},
     "output_type": "execute_result"
    }
   ],
   "source": [
    "#checking data type\n",
    "df_new.dtypes"
   ]
  },
  {
   "cell_type": "code",
   "execution_count": 15,
   "metadata": {},
   "outputs": [
    {
     "name": "stdout",
     "output_type": "stream",
     "text": [
      "+-------+---------+-----+----------+---------------+------------------+------------------+------------+--------+--------------------+-------------------+--------------------+------------------------+-----------------+\n",
      "|summary|MODELYEAR| MAKE|     MODEL|   VEHICLECLASS|        ENGINESIZE|         CYLINDERS|TRANSMISSION|FUELTYPE|FUELCONSUMPTION_CITY|FUELCONSUMPTION_HWY|FUELCONSUMPTION_COMB|FUELCONSUMPTION_COMB_MPG|     CO2EMISSIONS|\n",
      "+-------+---------+-----+----------+---------------+------------------+------------------+------------+--------+--------------------+-------------------+--------------------+------------------------+-----------------+\n",
      "|  count|     1067| 1067|      1067|           1067|              1067|              1067|        1067|    1067|                1067|               1067|                1067|                    1067|             1067|\n",
      "|   mean|   2014.0| null|     300.0|           null|3.3462980318650346| 5.794751640112465|        null|    null|  13.296532333645752|   9.47460168697282|  11.580880974695416|      26.441424554826618|256.2286785379569|\n",
      "| stddev|      0.0| null|      null|           null|1.4158950514240645|1.7974472750409625|        null|    null|   4.101253317068338|  2.794510449885405|    3.48559484963484|       7.468701989863618|63.37230444279997|\n",
      "|    min|     2014|ACURA|1500 (MDS)|        COMPACT|                 1|                10|          A4|       D|                  10|                 10|                  10|                      11|              108|\n",
      "|    max|     2014|VOLVO|        xD|VAN - PASSENGER|               8.4|                 8|          M7|       Z|                 9.9|                9.9|                 9.9|                      60|              488|\n",
      "+-------+---------+-----+----------+---------------+------------------+------------------+------------+--------+--------------------+-------------------+--------------------+------------------------+-----------------+\n",
      "\n"
     ]
    }
   ],
   "source": [
    "df_new.describe().show()"
   ]
  },
  {
   "cell_type": "code",
   "execution_count": 16,
   "metadata": {},
   "outputs": [],
   "source": [
    "#adding column in data frame\n",
    "df_ = df_new.withColumn('MODELYEAR_after5',df_new['MODELYEAR']+5)"
   ]
  },
  {
   "cell_type": "code",
   "execution_count": 17,
   "metadata": {},
   "outputs": [
    {
     "data": {
      "text/plain": [
       "DataFrame[MODELYEAR: string, MAKE: string, MODEL: string, VEHICLECLASS: string, ENGINESIZE: string, CYLINDERS: string, TRANSMISSION: string, FUELTYPE: string, FUELCONSUMPTION_CITY: string, FUELCONSUMPTION_HWY: string, FUELCONSUMPTION_COMB: string, FUELCONSUMPTION_COMB_MPG: string, CO2EMISSIONS: string, MODELYEAR_after5: double]"
      ]
     },
     "execution_count": 17,
     "metadata": {},
     "output_type": "execute_result"
    }
   ],
   "source": [
    "df_"
   ]
  },
  {
   "cell_type": "code",
   "execution_count": 18,
   "metadata": {},
   "outputs": [],
   "source": [
    "#drop a column\n",
    "df_new =  df_.drop('MODELYEAR_after5')"
   ]
  },
  {
   "cell_type": "code",
   "execution_count": 19,
   "metadata": {},
   "outputs": [
    {
     "data": {
      "text/plain": [
       "DataFrame[modyear: string, MAKE: string, MODEL: string, VEHICLECLASS: string, ENGINESIZE: string, CYLINDERS: string, TRANSMISSION: string, FUELTYPE: string, FUELCONSUMPTION_CITY: string, FUELCONSUMPTION_HWY: string, FUELCONSUMPTION_COMB: string, FUELCONSUMPTION_COMB_MPG: string, CO2EMISSIONS: string]"
      ]
     },
     "execution_count": 19,
     "metadata": {},
     "output_type": "execute_result"
    }
   ],
   "source": [
    "#rename column name\n",
    "df_new.withColumnRenamed('MODELYEAR','modyear')"
   ]
  },
  {
   "cell_type": "code",
   "execution_count": 20,
   "metadata": {},
   "outputs": [
    {
     "data": {
      "text/plain": [
       "DataFrame[MODELYEAR: string, MAKE: string, MODEL: string, VEHICLECLASS: string, ENGINESIZE: string, CYLINDERS: string, TRANSMISSION: string, FUELTYPE: string, FUELCONSUMPTION_CITY: string, FUELCONSUMPTION_HWY: string, FUELCONSUMPTION_COMB: string, FUELCONSUMPTION_COMB_MPG: string, CO2EMISSIONS: string]"
      ]
     },
     "execution_count": 20,
     "metadata": {},
     "output_type": "execute_result"
    }
   ],
   "source": [
    "#to remove null values\n",
    "df_new.dropna()"
   ]
  },
  {
   "cell_type": "code",
   "execution_count": 21,
   "metadata": {},
   "outputs": [
    {
     "data": {
      "text/plain": [
       "DataFrame[MODELYEAR: string, MAKE: string, MODEL: string, VEHICLECLASS: string, ENGINESIZE: string, CYLINDERS: string, TRANSMISSION: string, FUELTYPE: string, FUELCONSUMPTION_CITY: string, FUELCONSUMPTION_HWY: string, FUELCONSUMPTION_COMB: string, FUELCONSUMPTION_COMB_MPG: string, CO2EMISSIONS: string]"
      ]
     },
     "execution_count": 21,
     "metadata": {},
     "output_type": "execute_result"
    }
   ],
   "source": [
    "#thresh is ussed to check if any 2 or mor null values  in the df then that is removed\n",
    "df_new.na.drop(how ='any',thresh =2)"
   ]
  },
  {
   "cell_type": "code",
   "execution_count": 22,
   "metadata": {},
   "outputs": [
    {
     "data": {
      "text/plain": [
       "DataFrame[MODELYEAR: string, MAKE: string, MODEL: string, VEHICLECLASS: string, ENGINESIZE: string, CYLINDERS: string, TRANSMISSION: string, FUELTYPE: string, FUELCONSUMPTION_CITY: string, FUELCONSUMPTION_HWY: string, FUELCONSUMPTION_COMB: string, FUELCONSUMPTION_COMB_MPG: string, CO2EMISSIONS: string]"
      ]
     },
     "execution_count": 22,
     "metadata": {},
     "output_type": "execute_result"
    }
   ],
   "source": [
    "# any nan values in the specific column it will be deleted\n",
    "df_new.na.drop(how ='any',subset  = ['MODEL'])"
   ]
  },
  {
   "cell_type": "code",
   "execution_count": 23,
   "metadata": {},
   "outputs": [
    {
     "data": {
      "text/plain": [
       "DataFrame[MODELYEAR: string, MAKE: string, MODEL: string, VEHICLECLASS: string, ENGINESIZE: string, CYLINDERS: string, TRANSMISSION: string, FUELTYPE: string, FUELCONSUMPTION_CITY: string, FUELCONSUMPTION_HWY: string, FUELCONSUMPTION_COMB: string, FUELCONSUMPTION_COMB_MPG: string, CO2EMISSIONS: string]"
      ]
     },
     "execution_count": 23,
     "metadata": {},
     "output_type": "execute_result"
    }
   ],
   "source": [
    "# add values in position of mising value\n",
    "df_new.na.fill('value is missing')"
   ]
  },
  {
   "cell_type": "markdown",
   "metadata": {},
   "source": [
    "# filtering"
   ]
  },
  {
   "cell_type": "code",
   "execution_count": 24,
   "metadata": {},
   "outputs": [
    {
     "name": "stdout",
     "output_type": "stream",
     "text": [
      "+-----+----------+----------+\n",
      "| MAKE|     MODEL|ENGINESIZE|\n",
      "+-----+----------+----------+\n",
      "|ACURA|       ILX|         2|\n",
      "|ACURA|       ILX|       2.4|\n",
      "|ACURA|ILX HYBRID|       1.5|\n",
      "|ACURA|   MDX 4WD|       3.5|\n",
      "|ACURA|   RDX AWD|       3.5|\n",
      "+-----+----------+----------+\n",
      "only showing top 5 rows\n",
      "\n"
     ]
    }
   ],
   "source": [
    "ss= df_new.filter('ENGINESIZE<=5').select(['MAKE','MODEL','ENGINESIZE'])\n",
    "ss.show(5)"
   ]
  },
  {
   "cell_type": "code",
   "execution_count": 25,
   "metadata": {},
   "outputs": [
    {
     "name": "stdout",
     "output_type": "stream",
     "text": [
      "+------------+--------------------+----------+\n",
      "|        MAKE|               MODEL|ENGINESIZE|\n",
      "+------------+--------------------+----------+\n",
      "|       ACURA|                 ILX|         2|\n",
      "|       ACURA|                 ILX|       2.4|\n",
      "|       ACURA|          ILX HYBRID|       1.5|\n",
      "|       ACURA|             MDX 4WD|       3.5|\n",
      "|       ACURA|             RDX AWD|       3.5|\n",
      "|       ACURA|                 RLX|       3.5|\n",
      "|       ACURA|                  TL|       3.5|\n",
      "|       ACURA|              TL AWD|       3.7|\n",
      "|       ACURA|              TL AWD|       3.7|\n",
      "|       ACURA|                 TSX|       2.4|\n",
      "|       ACURA|                 TSX|       2.4|\n",
      "|       ACURA|                 TSX|       3.5|\n",
      "|ASTON MARTIN|          V8 VANTAGE|       4.7|\n",
      "|ASTON MARTIN|          V8 VANTAGE|       4.7|\n",
      "|ASTON MARTIN|        V8 VANTAGE S|       4.7|\n",
      "|ASTON MARTIN|        V8 VANTAGE S|       4.7|\n",
      "|        AUDI|                  A4|         2|\n",
      "|        AUDI|          A4 QUATTRO|         2|\n",
      "|        AUDI|          A4 QUATTRO|         2|\n",
      "|        AUDI|A5 CABRIOLET QUATTRO|         2|\n",
      "+------------+--------------------+----------+\n",
      "only showing top 20 rows\n",
      "\n"
     ]
    }
   ],
   "source": [
    "dd = df_new.filter((df_new['ENGINESIZE']<='5')&(df_new['FUELTYPE'] =='Z')).select(['MAKE','MODEL','ENGINESIZE'])\n",
    "dd.show()"
   ]
  },
  {
   "cell_type": "code",
   "execution_count": 26,
   "metadata": {},
   "outputs": [
    {
     "name": "stdout",
     "output_type": "stream",
     "text": [
      "+----------+--------------------+----------+\n",
      "|      MAKE|               MODEL|ENGINESIZE|\n",
      "+----------+--------------------+----------+\n",
      "|  CADILLAC|    ESCALADE ESV AWD|       6.2|\n",
      "| CHEVROLET|EXPRESS 1500 CARG...|       5.3|\n",
      "| CHEVROLET|EXPRESS 1500 PASS...|       5.3|\n",
      "| CHEVROLET|EXPRESS 2500 PASS...|         6|\n",
      "| CHEVROLET|EXPRESS 3500 PASS...|         6|\n",
      "|      FORD|      E150 WAGON FFV|       4.6|\n",
      "|      FORD|      E350 WAGON FFV|       5.4|\n",
      "|       GMC|SAVANA 1500 CARGO...|       5.3|\n",
      "|       GMC|SAVANA 1500 PASSE...|       5.3|\n",
      "|       GMC|SAVANA 2500 PASSE...|         6|\n",
      "|       GMC|SAVANA 3500 PASSE...|         6|\n",
      "|       GMC| YUKON DENALI XL AWD|       6.2|\n",
      "|LAND ROVER|RANGE ROVER LWB V...|         5|\n",
      "|LAND ROVER|RANGE ROVER V8 5....|         5|\n",
      "+----------+--------------------+----------+\n",
      "\n"
     ]
    }
   ],
   "source": [
    "#df_new.filter((df_new['FUELCONSUMPTION_CITY']>='25').select(['MAKE','MODEL','ENGINESIZE'])\n",
    "df_new.filter('FUELCONSUMPTION_CITY>=25').select(['MAKE','MODEL','ENGINESIZE']).show()"
   ]
  },
  {
   "cell_type": "code",
   "execution_count": 27,
   "metadata": {},
   "outputs": [
    {
     "name": "stdout",
     "output_type": "stream",
     "text": [
      "+---------+------------+------------+------------+----------+---------+------------+--------+--------------------+-------------------+--------------------+------------------------+------------+\n",
      "|MODELYEAR|        MAKE|       MODEL|VEHICLECLASS|ENGINESIZE|CYLINDERS|TRANSMISSION|FUELTYPE|FUELCONSUMPTION_CITY|FUELCONSUMPTION_HWY|FUELCONSUMPTION_COMB|FUELCONSUMPTION_COMB_MPG|CO2EMISSIONS|\n",
      "+---------+------------+------------+------------+----------+---------+------------+--------+--------------------+-------------------+--------------------+------------------------+------------+\n",
      "|     2014|       ACURA|         ILX|     COMPACT|         2|        4|         AS5|       Z|                 9.9|                6.7|                 8.5|                      33|         196|\n",
      "|     2014|       ACURA|         ILX|     COMPACT|       2.4|        4|          M6|       Z|                11.2|                7.7|                 9.6|                      29|         221|\n",
      "|     2014|       ACURA|     MDX 4WD| SUV - SMALL|       3.5|        6|         AS6|       Z|                12.7|                9.1|                11.1|                      25|         255|\n",
      "|     2014|       ACURA|     RDX AWD| SUV - SMALL|       3.5|        6|         AS6|       Z|                12.1|                8.7|                10.6|                      27|         244|\n",
      "|     2014|       ACURA|         RLX|    MID-SIZE|       3.5|        6|         AS6|       Z|                11.9|                7.7|                  10|                      28|         230|\n",
      "|     2014|       ACURA|          TL|    MID-SIZE|       3.5|        6|         AS6|       Z|                11.8|                8.1|                10.1|                      28|         232|\n",
      "|     2014|       ACURA|      TL AWD|    MID-SIZE|       3.7|        6|         AS6|       Z|                12.8|                  9|                11.1|                      25|         255|\n",
      "|     2014|       ACURA|      TL AWD|    MID-SIZE|       3.7|        6|          M6|       Z|                13.4|                9.5|                11.6|                      24|         267|\n",
      "|     2014|       ACURA|         TSX|     COMPACT|       2.4|        4|         AS5|       Z|                10.6|                7.5|                 9.2|                      31|         212|\n",
      "|     2014|       ACURA|         TSX|     COMPACT|       2.4|        4|          M6|       Z|                11.2|                8.1|                 9.8|                      29|         225|\n",
      "|     2014|       ACURA|         TSX|     COMPACT|       3.5|        6|         AS5|       Z|                12.1|                8.3|                10.4|                      27|         239|\n",
      "|     2014|ASTON MARTIN|         DB9| MINICOMPACT|       5.9|       12|          A6|       Z|                  18|               12.6|                15.6|                      18|         359|\n",
      "|     2014|ASTON MARTIN|      RAPIDE|  SUBCOMPACT|       5.9|       12|          A6|       Z|                  18|               12.6|                15.6|                      18|         359|\n",
      "|     2014|ASTON MARTIN|  V8 VANTAGE|  TWO-SEATER|       4.7|        8|         AM7|       Z|                17.4|               11.3|                14.7|                      19|         338|\n",
      "|     2014|ASTON MARTIN|  V8 VANTAGE|  TWO-SEATER|       4.7|        8|          M6|       Z|                18.1|               12.2|                15.4|                      18|         354|\n",
      "|     2014|ASTON MARTIN|V8 VANTAGE S|  TWO-SEATER|       4.7|        8|         AM7|       Z|                17.4|               11.3|                14.7|                      19|         338|\n",
      "|     2014|ASTON MARTIN|V8 VANTAGE S|  TWO-SEATER|       4.7|        8|          M6|       Z|                18.1|               12.2|                15.4|                      18|         354|\n",
      "|     2014|ASTON MARTIN|    VANQUISH| MINICOMPACT|       5.9|       12|          A6|       Z|                  18|               12.6|                15.6|                      18|         359|\n",
      "|     2014|        AUDI|          A4|     COMPACT|         2|        4|         AV8|       Z|                 9.9|                7.4|                 8.8|                      32|         202|\n",
      "|     2014|        AUDI|  A4 QUATTRO|     COMPACT|         2|        4|         AS8|       Z|                11.5|                8.1|                  10|                      28|         230|\n",
      "+---------+------------+------------+------------+----------+---------+------------+--------+--------------------+-------------------+--------------------+------------------------+------------+\n",
      "only showing top 20 rows\n",
      "\n"
     ]
    }
   ],
   "source": [
    "df_new.filter(~(df_new['CO2EMISSIONS']<='150')).show()"
   ]
  },
  {
   "cell_type": "code",
   "execution_count": 44,
   "metadata": {},
   "outputs": [
    {
     "data": {
      "text/plain": [
       "DataFrame[CYLINDERS: string]"
      ]
     },
     "execution_count": 44,
     "metadata": {},
     "output_type": "execute_result"
    }
   ],
   "source": [
    "df_new.select('CYLINDERS')"
   ]
  },
  {
   "cell_type": "code",
   "execution_count": 57,
   "metadata": {},
   "outputs": [],
   "source": [
    "# change column type str to int\n",
    "\n",
    "\n",
    "\n",
    "from pyspark.sql.types import StringType\n",
    "from pyspark.sql.types import IntegerType\n",
    "#import org.apache.spark.sql.types.IntegerType\n",
    "\n",
    "#output_df = df_cust.withColumn(\"zip\",df_cust[\"zip\"].cast"
   ]
  },
  {
   "cell_type": "code",
   "execution_count": 58,
   "metadata": {},
   "outputs": [],
   "source": [
    "out = df_new.withColumn('CYLINDERS',df_new['CYLINDERS'].cast(IntegerType()))"
   ]
  },
  {
   "cell_type": "code",
   "execution_count": 59,
   "metadata": {},
   "outputs": [
    {
     "data": {
      "text/plain": [
       "DataFrame[MODELYEAR: string, MAKE: string, MODEL: string, VEHICLECLASS: string, ENGINESIZE: string, CYLINDERS: int, TRANSMISSION: string, FUELTYPE: string, FUELCONSUMPTION_CITY: string, FUELCONSUMPTION_HWY: string, FUELCONSUMPTION_COMB: string, FUELCONSUMPTION_COMB_MPG: string, CO2EMISSIONS: string]"
      ]
     },
     "execution_count": 59,
     "metadata": {},
     "output_type": "execute_result"
    }
   ],
   "source": [
    "out"
   ]
  },
  {
   "cell_type": "code",
   "execution_count": 60,
   "metadata": {},
   "outputs": [
    {
     "name": "stdout",
     "output_type": "stream",
     "text": [
      "+--------------------+--------------+\n",
      "|               MODEL|sum(CYLINDERS)|\n",
      "+--------------------+--------------+\n",
      "|  EXPRESS 1500 CARGO|            22|\n",
      "|RANGE ROVER EVOQU...|             4|\n",
      "|HIGHLANDER HYBRID...|             6|\n",
      "|JETTA TDI CLEAN D...|             8|\n",
      "|              CAMARO|            12|\n",
      "| MAZDA3 5-DOOR (SIL)|             4|\n",
      "|           ROGUE AWD|             4|\n",
      "|                 S60|             5|\n",
      "|           R8 SPYDER|            36|\n",
      "|  EXPEDITION 4X4 FFV|            16|\n",
      "| Q5 TDI CLEAN DIESEL|             6|\n",
      "|                  Q7|             6|\n",
      "|         FLYING SPUR|            12|\n",
      "|             ORLANDO|             8|\n",
      "|           SILVERADO|            36|\n",
      "|             RIO ECO|             4|\n",
      "|        1500 4X4 FFV|            12|\n",
      "|               FOCUS|             4|\n",
      "|               TITAN|             8|\n",
      "|ML 350 BLUETEC 4M...|             6|\n",
      "+--------------------+--------------+\n",
      "only showing top 20 rows\n",
      "\n"
     ]
    }
   ],
   "source": [
    "out.groupby('MODEL').sum('CYLINDERS').show()"
   ]
  },
  {
   "cell_type": "code",
   "execution_count": 62,
   "metadata": {},
   "outputs": [
    {
     "name": "stdout",
     "output_type": "stream",
     "text": [
      "+--------------------+-----+\n",
      "|               MODEL|count|\n",
      "+--------------------+-----+\n",
      "|  EXPRESS 1500 CARGO|    3|\n",
      "|RANGE ROVER EVOQU...|    1|\n",
      "|HIGHLANDER HYBRID...|    1|\n",
      "|JETTA TDI CLEAN D...|    2|\n",
      "|              CAMARO|    2|\n",
      "| MAZDA3 5-DOOR (SIL)|    1|\n",
      "|           ROGUE AWD|    1|\n",
      "|                 S60|    1|\n",
      "|           R8 SPYDER|    4|\n",
      "|  EXPEDITION 4X4 FFV|    2|\n",
      "| Q5 TDI CLEAN DIESEL|    1|\n",
      "|                  Q7|    1|\n",
      "|         FLYING SPUR|    1|\n",
      "|             ORLANDO|    2|\n",
      "|           SILVERADO|    5|\n",
      "|             RIO ECO|    1|\n",
      "|        1500 4X4 FFV|    2|\n",
      "|               FOCUS|    1|\n",
      "|               TITAN|    1|\n",
      "|ML 350 BLUETEC 4M...|    1|\n",
      "+--------------------+-----+\n",
      "only showing top 20 rows\n",
      "\n"
     ]
    }
   ],
   "source": [
    "out.groupby('MODEL').count().show()"
   ]
  },
  {
   "cell_type": "code",
   "execution_count": null,
   "metadata": {},
   "outputs": [],
   "source": []
  },
  {
   "cell_type": "code",
   "execution_count": null,
   "metadata": {},
   "outputs": [],
   "source": []
  },
  {
   "cell_type": "code",
   "execution_count": null,
   "metadata": {},
   "outputs": [],
   "source": []
  },
  {
   "cell_type": "code",
   "execution_count": null,
   "metadata": {},
   "outputs": [],
   "source": []
  },
  {
   "cell_type": "code",
   "execution_count": null,
   "metadata": {},
   "outputs": [],
   "source": []
  },
  {
   "cell_type": "code",
   "execution_count": null,
   "metadata": {},
   "outputs": [],
   "source": []
  }
 ],
 "metadata": {
  "kernelspec": {
   "display_name": "Python 3",
   "language": "python",
   "name": "python3"
  },
  "language_info": {
   "codemirror_mode": {
    "name": "ipython",
    "version": 3
   },
   "file_extension": ".py",
   "mimetype": "text/x-python",
   "name": "python",
   "nbconvert_exporter": "python",
   "pygments_lexer": "ipython3",
   "version": "3.6.7"
  }
 },
 "nbformat": 4,
 "nbformat_minor": 2
}
